{
 "cells": [
  {
   "cell_type": "code",
   "execution_count": 1,
   "metadata": {
    "collapsed": false
   },
   "outputs": [
    {
     "name": "stdout",
     "output_type": "stream",
     "text": [
      "hello\n"
     ]
    }
   ],
   "source": [
    "print(\"hello\")"
   ]
  },
  {
   "cell_type": "code",
   "execution_count": 3,
   "metadata": {
    "collapsed": true
   },
   "outputs": [],
   "source": [
    "import pandas as pd #work with data as tables\n",
    "import numpy as np #use number matrices\n",
    "import matplotlib.pyplot as plt\n",
    "import tensorflow as tf"
   ]
  },
  {
   "cell_type": "code",
   "execution_count": 7,
   "metadata": {
    "collapsed": false
   },
   "outputs": [
    {
     "data": {
      "text/html": [
       "<div>\n",
       "<table border=\"1\" class=\"dataframe\">\n",
       "  <thead>\n",
       "    <tr style=\"text-align: right;\">\n",
       "      <th></th>\n",
       "      <th>area</th>\n",
       "      <th>bathrooms</th>\n",
       "    </tr>\n",
       "  </thead>\n",
       "  <tbody>\n",
       "    <tr>\n",
       "      <th>0</th>\n",
       "      <td>2104.0</td>\n",
       "      <td>3.0</td>\n",
       "    </tr>\n",
       "    <tr>\n",
       "      <th>1</th>\n",
       "      <td>1600.0</td>\n",
       "      <td>3.0</td>\n",
       "    </tr>\n",
       "    <tr>\n",
       "      <th>2</th>\n",
       "      <td>2400.0</td>\n",
       "      <td>3.0</td>\n",
       "    </tr>\n",
       "    <tr>\n",
       "      <th>3</th>\n",
       "      <td>1416.0</td>\n",
       "      <td>2.0</td>\n",
       "    </tr>\n",
       "    <tr>\n",
       "      <th>4</th>\n",
       "      <td>3000.0</td>\n",
       "      <td>4.0</td>\n",
       "    </tr>\n",
       "    <tr>\n",
       "      <th>5</th>\n",
       "      <td>1985.0</td>\n",
       "      <td>4.0</td>\n",
       "    </tr>\n",
       "    <tr>\n",
       "      <th>6</th>\n",
       "      <td>1534.0</td>\n",
       "      <td>3.0</td>\n",
       "    </tr>\n",
       "    <tr>\n",
       "      <th>7</th>\n",
       "      <td>1427.0</td>\n",
       "      <td>3.0</td>\n",
       "    </tr>\n",
       "    <tr>\n",
       "      <th>8</th>\n",
       "      <td>1380.0</td>\n",
       "      <td>3.0</td>\n",
       "    </tr>\n",
       "    <tr>\n",
       "      <th>9</th>\n",
       "      <td>1494.0</td>\n",
       "      <td>3.0</td>\n",
       "    </tr>\n",
       "  </tbody>\n",
       "</table>\n",
       "</div>"
      ],
      "text/plain": [
       "     area  bathrooms\n",
       "0  2104.0        3.0\n",
       "1  1600.0        3.0\n",
       "2  2400.0        3.0\n",
       "3  1416.0        2.0\n",
       "4  3000.0        4.0\n",
       "5  1985.0        4.0\n",
       "6  1534.0        3.0\n",
       "7  1427.0        3.0\n",
       "8  1380.0        3.0\n",
       "9  1494.0        3.0"
      ]
     },
     "execution_count": 7,
     "metadata": {},
     "output_type": "execute_result"
    }
   ],
   "source": [
    "#Step 1 load data\n",
    "dataframe = pd.read_csv('data_tensor_flow.csv') #dataframe\n",
    "#removed the features we dont care about\n",
    "dataframe = dataframe.drop(['index', 'price', 'sq_price'], axis=1)\n",
    "#we only use the first 10 rows\n",
    "dataframe = dataframe[0:10]\n",
    "dataframe"
   ]
  },
  {
   "cell_type": "code",
   "execution_count": 15,
   "metadata": {
    "collapsed": false
   },
   "outputs": [
    {
     "data": {
      "text/html": [
       "<div>\n",
       "<table border=\"1\" class=\"dataframe\">\n",
       "  <thead>\n",
       "    <tr style=\"text-align: right;\">\n",
       "      <th></th>\n",
       "      <th>area</th>\n",
       "      <th>bathrooms</th>\n",
       "      <th>y1</th>\n",
       "      <th>y2</th>\n",
       "    </tr>\n",
       "  </thead>\n",
       "  <tbody>\n",
       "    <tr>\n",
       "      <th>0</th>\n",
       "      <td>2104.0</td>\n",
       "      <td>3.0</td>\n",
       "      <td>1</td>\n",
       "      <td>0</td>\n",
       "    </tr>\n",
       "    <tr>\n",
       "      <th>1</th>\n",
       "      <td>1600.0</td>\n",
       "      <td>3.0</td>\n",
       "      <td>1</td>\n",
       "      <td>0</td>\n",
       "    </tr>\n",
       "    <tr>\n",
       "      <th>2</th>\n",
       "      <td>2400.0</td>\n",
       "      <td>3.0</td>\n",
       "      <td>1</td>\n",
       "      <td>0</td>\n",
       "    </tr>\n",
       "    <tr>\n",
       "      <th>3</th>\n",
       "      <td>1416.0</td>\n",
       "      <td>2.0</td>\n",
       "      <td>0</td>\n",
       "      <td>1</td>\n",
       "    </tr>\n",
       "    <tr>\n",
       "      <th>4</th>\n",
       "      <td>3000.0</td>\n",
       "      <td>4.0</td>\n",
       "      <td>0</td>\n",
       "      <td>1</td>\n",
       "    </tr>\n",
       "    <tr>\n",
       "      <th>5</th>\n",
       "      <td>1985.0</td>\n",
       "      <td>4.0</td>\n",
       "      <td>1</td>\n",
       "      <td>0</td>\n",
       "    </tr>\n",
       "    <tr>\n",
       "      <th>6</th>\n",
       "      <td>1534.0</td>\n",
       "      <td>3.0</td>\n",
       "      <td>0</td>\n",
       "      <td>1</td>\n",
       "    </tr>\n",
       "    <tr>\n",
       "      <th>7</th>\n",
       "      <td>1427.0</td>\n",
       "      <td>3.0</td>\n",
       "      <td>1</td>\n",
       "      <td>0</td>\n",
       "    </tr>\n",
       "    <tr>\n",
       "      <th>8</th>\n",
       "      <td>1380.0</td>\n",
       "      <td>3.0</td>\n",
       "      <td>1</td>\n",
       "      <td>0</td>\n",
       "    </tr>\n",
       "    <tr>\n",
       "      <th>9</th>\n",
       "      <td>1494.0</td>\n",
       "      <td>3.0</td>\n",
       "      <td>1</td>\n",
       "      <td>0</td>\n",
       "    </tr>\n",
       "  </tbody>\n",
       "</table>\n",
       "</div>"
      ],
      "text/plain": [
       "     area  bathrooms  y1  y2\n",
       "0  2104.0        3.0   1   0\n",
       "1  1600.0        3.0   1   0\n",
       "2  2400.0        3.0   1   0\n",
       "3  1416.0        2.0   0   1\n",
       "4  3000.0        4.0   0   1\n",
       "5  1985.0        4.0   1   0\n",
       "6  1534.0        3.0   0   1\n",
       "7  1427.0        3.0   1   0\n",
       "8  1380.0        3.0   1   0\n",
       "9  1494.0        3.0   1   0"
      ]
     },
     "execution_count": 15,
     "metadata": {},
     "output_type": "execute_result"
    }
   ],
   "source": [
    "#Step 2 - add labels to create a classification problem\n",
    "# 1 is a good by and 0 is a bad buy\n",
    "dataframe.loc[:, ('y1')] = [1,1,1,0,0,1,0,1,1,1]\n",
    "#y2 is a negation of y1, opposite\n",
    "dataframe.loc[:, ('y2')] = dataframe['y1'] == 0\n",
    "#turn TRUE/FALSE values to 1s and 0s\n",
    "dataframe.loc[:, ('y2')] = dataframe['y2'].astype(int)\n",
    "dataframe"
   ]
  },
  {
   "cell_type": "code",
   "execution_count": 19,
   "metadata": {
    "collapsed": false
   },
   "outputs": [],
   "source": [
    "#Step 3 - prepare data for tensorflow (tensors)\n",
    "#tensors are a generic version of vectors and matrices\n",
    "# vector - is a list of numbers (1D tensor)\n",
    "# matrix - is a list of list of numbers (2D tensor)\n",
    "# list of list of list of numbers (3D tensor)\n",
    "# ...\n",
    "#convert features to input tensors\n",
    "inputX = dataframe.loc[:, ['area', 'bathrooms']].as_matrix()\n",
    "#convert labels to input tensors\n",
    "inputY = dataframe.loc[:, ['y1', 'y2']].as_matrix()"
   ]
  },
  {
   "cell_type": "code",
   "execution_count": 20,
   "metadata": {
    "collapsed": false
   },
   "outputs": [
    {
     "data": {
      "text/plain": [
       "array([[  2.10400000e+03,   3.00000000e+00],\n",
       "       [  1.60000000e+03,   3.00000000e+00],\n",
       "       [  2.40000000e+03,   3.00000000e+00],\n",
       "       [  1.41600000e+03,   2.00000000e+00],\n",
       "       [  3.00000000e+03,   4.00000000e+00],\n",
       "       [  1.98500000e+03,   4.00000000e+00],\n",
       "       [  1.53400000e+03,   3.00000000e+00],\n",
       "       [  1.42700000e+03,   3.00000000e+00],\n",
       "       [  1.38000000e+03,   3.00000000e+00],\n",
       "       [  1.49400000e+03,   3.00000000e+00]])"
      ]
     },
     "execution_count": 20,
     "metadata": {},
     "output_type": "execute_result"
    }
   ],
   "source": [
    "inputX"
   ]
  },
  {
   "cell_type": "code",
   "execution_count": 21,
   "metadata": {
    "collapsed": false
   },
   "outputs": [
    {
     "data": {
      "text/plain": [
       "array([[1, 0],\n",
       "       [1, 0],\n",
       "       [1, 0],\n",
       "       [0, 1],\n",
       "       [0, 1],\n",
       "       [1, 0],\n",
       "       [0, 1],\n",
       "       [1, 0],\n",
       "       [1, 0],\n",
       "       [1, 0]])"
      ]
     },
     "execution_count": 21,
     "metadata": {},
     "output_type": "execute_result"
    }
   ],
   "source": [
    "inputY"
   ]
  },
  {
   "cell_type": "code",
   "execution_count": 42,
   "metadata": {
    "collapsed": true
   },
   "outputs": [],
   "source": [
    "#Step 4 - write out our hyperparameters\n",
    "learning_rate = 0.000001\n",
    "training_epochs = 2000\n",
    "display_step = 50\n",
    "n_samples = inputY.size"
   ]
  },
  {
   "cell_type": "code",
   "execution_count": 32,
   "metadata": {
    "collapsed": false
   },
   "outputs": [],
   "source": [
    "#Step 5 - create our computation graph/neural network\n",
    "#for feature input tensors, none means any number of examples\n",
    "#placeholders are gateways for data into our computation graph\n",
    "# 2 is the number of labels\n",
    "x = tf.placeholder(tf.float32, [None,2])\n",
    "\n",
    "#create weights\n",
    "#2x2 float matrix, that we'll keep updating through the\n",
    "#training process\n",
    "#variables in tf hold and update parameters\n",
    "#in memory buffers containing tensors\n",
    "W = tf.Variable(tf.zeros([2,2]))\n",
    "\n",
    "#add biases (example is b in y = mx + b b is the bias, like that)\n",
    "b = tf.Variable(tf.zeros([2]))\n",
    "\n",
    "#multiply our weights by our inputs, first calculation\n",
    "#weights are how we govern how data flows in our computation graph\n",
    "#multiply input bey weights and add biases\n",
    "y_values = tf.add(tf.matmul(x, W), b)\n",
    "\n",
    "#appy softmax to value we just created\n",
    "#softmax is our activation function\n",
    "y = tf.nn.softmax(y_values)\n",
    "\n",
    "#feed in a matrix of labels\n",
    "y_ = tf.placeholder(tf.float32, [None, 2])"
   ]
  },
  {
   "cell_type": "code",
   "execution_count": 39,
   "metadata": {
    "collapsed": false
   },
   "outputs": [],
   "source": [
    "#Step 5 - perform training\n",
    "#create our cost function, mean squared error\n",
    "#reduce sum computs the sum of elements across dimensions of a tensor\n",
    "cost = tf.reduce_sum(tf.pow(y_ - y, 2))/(2*n_samples)\n",
    "#Gradient descent\n",
    "optimizer = tf.train.GradientDescentOptimizer(learning_rate).minimize(cost)"
   ]
  },
  {
   "cell_type": "code",
   "execution_count": 40,
   "metadata": {
    "collapsed": false
   },
   "outputs": [
    {
     "name": "stdout",
     "output_type": "stream",
     "text": [
      "WARNING:tensorflow:From <ipython-input-40-e847b34343f0>:2 in <module>.: initialize_all_variables (from tensorflow.python.ops.variables) is deprecated and will be removed after 2017-03-02.\n",
      "Instructions for updating:\n",
      "Use `tf.global_variables_initializer` instead.\n"
     ]
    }
   ],
   "source": [
    "#initialize variables and tensorflow session\n",
    "init = tf.initialize_all_variables()\n",
    "sess = tf.Session()\n",
    "sess.run(init)"
   ]
  },
  {
   "cell_type": "code",
   "execution_count": 44,
   "metadata": {
    "collapsed": false
   },
   "outputs": [
    {
     "name": "stdout",
     "output_type": "stream",
     "text": [
      "Training step: 0000 cost= 0.109537281\n",
      "Training step: 0050 cost= 0.109537207\n",
      "Training step: 0100 cost= 0.109537147\n",
      "Training step: 0150 cost= 0.109537080\n",
      "Training step: 0200 cost= 0.109537020\n",
      "Training step: 0250 cost= 0.109536931\n",
      "Training step: 0300 cost= 0.109536871\n",
      "Training step: 0350 cost= 0.109536804\n",
      "Training step: 0400 cost= 0.109536745\n",
      "Training step: 0450 cost= 0.109536670\n",
      "Training step: 0500 cost= 0.109536603\n",
      "Training step: 0550 cost= 0.109536529\n",
      "Training step: 0600 cost= 0.109536454\n",
      "Training step: 0650 cost= 0.109536387\n",
      "Training step: 0700 cost= 0.109536327\n",
      "Training step: 0750 cost= 0.109536253\n",
      "Training step: 0800 cost= 0.109536193\n",
      "Training step: 0850 cost= 0.109536126\n",
      "Training step: 0900 cost= 0.109536052\n",
      "Training step: 0950 cost= 0.109535977\n",
      "Training step: 1000 cost= 0.109535918\n",
      "Training step: 1050 cost= 0.109535851\n",
      "Training step: 1100 cost= 0.109535776\n",
      "Training step: 1150 cost= 0.109535709\n",
      "Training step: 1200 cost= 0.109535649\n",
      "Training step: 1250 cost= 0.109535575\n",
      "Training step: 1300 cost= 0.109535500\n",
      "Training step: 1350 cost= 0.109535433\n",
      "Training step: 1400 cost= 0.109535359\n",
      "Training step: 1450 cost= 0.109535299\n",
      "Training step: 1500 cost= 0.109535240\n",
      "Training step: 1550 cost= 0.109535173\n",
      "Training step: 1600 cost= 0.109535098\n",
      "Training step: 1650 cost= 0.109535024\n",
      "Training step: 1700 cost= 0.109534957\n",
      "Training step: 1750 cost= 0.109534882\n",
      "Training step: 1800 cost= 0.109534815\n",
      "Training step: 1850 cost= 0.109534755\n",
      "Training step: 1900 cost= 0.109534696\n",
      "Training step: 1950 cost= 0.109534621\n",
      "Optimization Finished!\n",
      "Training cost= 0.109535 W= [[ 0.00021405 -0.00021405]\n",
      " [ 0.00010219 -0.00010219]] b= [  2.37126187e-05  -2.37126296e-05] \n",
      "\n"
     ]
    }
   ],
   "source": [
    "#training loop\n",
    "for i in range(training_epochs):\n",
    "    sess.run(optimizer, feed_dict={x: inputX, y_: inputY})\n",
    "    \n",
    "    #write out logs of training\n",
    "    if (i) % display_step == 0:\n",
    "        cc = sess.run(cost, feed_dict={x: inputX, y_: inputY})\n",
    "        print(\"Training step:\", '%04d' % (i), \"cost=\", \"{:.9f}\".format(cc)) #, \\\"W=\", sess.run(W), \"b=\", sess.run(b)\n",
    "        \n",
    "print(\"Optimization Finished!\")\n",
    "training_cost = sess.run(cost, feed_dict={x: inputX, y_: inputY})\n",
    "print(\"Training cost=\", training_cost, \"W=\", sess.run(W), \"b=\", sess.run(b), '\\n')"
   ]
  },
  {
   "cell_type": "code",
   "execution_count": 45,
   "metadata": {
    "collapsed": false
   },
   "outputs": [
    {
     "data": {
      "text/plain": [
       "array([[ 0.71123087,  0.28876916],\n",
       "       [ 0.66498965,  0.33501026],\n",
       "       [ 0.73654455,  0.26345551],\n",
       "       [ 0.64717317,  0.3528268 ],\n",
       "       [ 0.78332436,  0.21667559],\n",
       "       [ 0.70069939,  0.29930058],\n",
       "       [ 0.65866619,  0.34133378],\n",
       "       [ 0.64829433,  0.35170567],\n",
       "       [ 0.64369309,  0.35630688],\n",
       "       [ 0.65480596,  0.34519401]], dtype=float32)"
      ]
     },
     "execution_count": 45,
     "metadata": {},
     "output_type": "execute_result"
    }
   ],
   "source": [
    "sess.run(y, feed_dict= {x: inputX})"
   ]
  },
  {
   "cell_type": "code",
   "execution_count": 46,
   "metadata": {
    "collapsed": true
   },
   "outputs": [],
   "source": [
    "#its sazing all houses are a good buy 7/10\n",
    "#how to improve? add a hidden layer"
   ]
  },
  {
   "cell_type": "code",
   "execution_count": 47,
   "metadata": {
    "collapsed": false
   },
   "outputs": [
    {
     "data": {
      "text/plain": [
       "array([ 0.26894143,  0.7310586 ], dtype=float32)"
      ]
     },
     "execution_count": 47,
     "metadata": {},
     "output_type": "execute_result"
    }
   ],
   "source": [
    "sess.run(tf.nn.softmax([1., 2.]))"
   ]
  },
  {
   "cell_type": "code",
   "execution_count": null,
   "metadata": {
    "collapsed": true
   },
   "outputs": [],
   "source": []
  }
 ],
 "metadata": {
  "kernelspec": {
   "display_name": "Python 3",
   "language": "python",
   "name": "python3"
  },
  "language_info": {
   "codemirror_mode": {
    "name": "ipython",
    "version": 3
   },
   "file_extension": ".py",
   "mimetype": "text/x-python",
   "name": "python",
   "nbconvert_exporter": "python",
   "pygments_lexer": "ipython3",
   "version": "3.5.2"
  }
 },
 "nbformat": 4,
 "nbformat_minor": 2
}
